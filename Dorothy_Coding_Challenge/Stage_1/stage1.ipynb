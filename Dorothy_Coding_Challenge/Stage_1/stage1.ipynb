{
  "cells": [
    {
      "cell_type": "markdown",
      "metadata": {
        "id": "view-in-github",
        "colab_type": "text"
      },
      "source": [
        "<a href=\"https://colab.research.google.com/github/Mariannly/EPIC_5/blob/main/Dorothy_Coding_Challenge/Stage_1/stage1.ipynb\" target=\"_parent\"><img src=\"https://colab.research.google.com/assets/colab-badge.svg\" alt=\"Open In Colab\"/></a>"
      ]
    },
    {
      "cell_type": "markdown",
      "id": "0d76094c",
      "metadata": {
        "_cell_guid": "b72ba319-c453-4c83-bf4d-f1ec0d63f255",
        "_uuid": "3e052da1-f941-4266-9cbe-2dc77f36fd7e",
        "papermill": {
          "duration": 0.127607,
          "end_time": "2022-01-26T10:09:39.595005",
          "exception": false,
          "start_time": "2022-01-26T10:09:39.467398",
          "status": "completed"
        },
        "tags": [],
        "id": "0d76094c"
      },
      "source": [
        "# Stage 1 Challenge\n",
        "\n",
        "Please provide your stage-1 group solutions within a single Jupyter notebook (*.ipynb).\n",
        "\n",
        "When you finish, please upload your solution notebook here:\n",
        "\n",
        "https://forms.gle/bmvUYeACiE9igb4T7\n",
        "\n",
        "\n",
        "**DEADLINE:** 11 May 2025 (by 23h59)\n",
        "\n",
        "\n",
        "\n",
        "## Exploratory Data Analysis (EDA): Summer Olympics Dataset"
      ]
    },
    {
      "cell_type": "markdown",
      "id": "dd16ad66",
      "metadata": {
        "_cell_guid": "3f5ac27e-336d-4bfd-b6cb-8bc155e22088",
        "_uuid": "c1975ea8-7a32-4717-bb72-98961fcb06e2",
        "heading_collapsed": true,
        "papermill": {
          "duration": 0.123486,
          "end_time": "2022-01-26T10:09:40.086375",
          "exception": false,
          "start_time": "2022-01-26T10:09:39.962889",
          "status": "completed"
        },
        "tags": [],
        "id": "dd16ad66"
      },
      "source": [
        "### What is Exploratory Data Analysis (EDA)?\n",
        "EDA is the essential first step in analyzing a dataset. It involves examining data to identify patterns, detect outliers, evaluate different machine learning models, and verify assumptions through the use of statistics and scientific visualization."
      ]
    },
    {
      "cell_type": "markdown",
      "id": "904a0cc1",
      "metadata": {
        "_cell_guid": "65e7f5bd-6743-4c55-b750-3e083fc6eb8b",
        "_uuid": "f8da90a8-2ae9-4c21-9e16-20846f43de7e",
        "heading_collapsed": true,
        "papermill": {
          "duration": 0.121312,
          "end_time": "2022-01-26T10:09:40.573779",
          "exception": false,
          "start_time": "2022-01-26T10:09:40.452467",
          "status": "completed"
        },
        "tags": [],
        "id": "904a0cc1"
      },
      "source": [
        "### A Brief Outline Of The Dataset\n",
        "\n",
        "- This dataset provides a comprehensive record of the modern Olympic Games, covering events from the 1896 Athens Olympics up to the 2016 Rio Olympics.\n",
        "\n",
        "- The dataset includes 271,116 entries and 15 attributes in total.\n",
        "\n",
        "- Each entry represents an individual athlete participating in a specific Olympic event (i.e., athlete-event combinations).\n",
        "The attributes capture various details such as:\n",
        "\n",
        "    - ID – A unique identifier for each athlete\n",
        "    - Name – Athlete’s full name\n",
        "    - Sex – Gender (M or F)\n",
        "    - Age – Age in years\n",
        "    - Height – Measured in centimeters\n",
        "    - Weight – Measured in kilograms\n",
        "    - Team – Name of the team or country represented\n",
        "    - Medal – Type of medal won (Gold, Silver, Bronze)"
      ]
    },
    {
      "cell_type": "markdown",
      "id": "463a1bb4",
      "metadata": {
        "_cell_guid": "c97571b2-cdab-4afd-afc6-26bd0a2309cf",
        "_uuid": "fe1bca39-5d1b-4c31-a63e-eee744b56d1e",
        "papermill": {
          "duration": 0.121868,
          "end_time": "2022-01-26T10:09:41.059607",
          "exception": false,
          "start_time": "2022-01-26T10:09:40.937739",
          "status": "completed"
        },
        "tags": [],
        "id": "463a1bb4"
      },
      "source": [
        "## Downloading The Data And Importing Libraries"
      ]
    },
    {
      "cell_type": "markdown",
      "id": "68ce7cef",
      "metadata": {
        "id": "68ce7cef"
      },
      "source": [
        "##  Task 1: Load Data & Import Libraries\n",
        "\n",
        "**Goal:** Set up your environment and download the dataset for analysis.\n",
        "\n",
        "### Instructions:\n",
        "\n",
        "1. Download the dataset using `opendatasets`.  \n",
        "   - Dataset URL: https://www.kaggle.com/datasets/heesoo37/120-years-of-olympic-history-athletes-and-results  \n",
        "   - You may need to provide your Kaggle API credentials.\n",
        "\n",
        "\n",
        "2. Set file paths for:\n",
        "   - `athlete_data_filename` → `athlete_events.csv`\n",
        "   - `regions_data_filename` → `noc_regions.csv`\n",
        "\n",
        "\n",
        "3. Install and import the following libraries:\n",
        "   - `pandas`, `numpy`\n",
        "   - `matplotlib.pyplot`, `seaborn`\n",
        "   - `plotly.express`\n",
        "   - `ListedColormap` from `matplotlib.colors`\n",
        "\n",
        "\n",
        "**Expected Output:**\n",
        "\n",
        "- Dataset downloaded\n",
        "\n",
        "- All libraries successfully imported\n",
        "\n",
        "- File paths assigned\n"
      ]
    },
    {
      "cell_type": "code",
      "source": [
        "!pip install opendatasets --upgrade\n",
        "import opendatasets as od"
      ],
      "metadata": {
        "collapsed": true,
        "id": "RHgfy4YWEC-A",
        "outputId": "b2af9b59-a931-4ac2-98a0-37e342b07667",
        "colab": {
          "base_uri": "https://localhost:8080/"
        }
      },
      "id": "RHgfy4YWEC-A",
      "execution_count": null,
      "outputs": [
        {
          "output_type": "stream",
          "name": "stdout",
          "text": [
            "Requirement already satisfied: opendatasets in /usr/local/lib/python3.11/dist-packages (0.1.22)\n",
            "Requirement already satisfied: tqdm in /usr/local/lib/python3.11/dist-packages (from opendatasets) (4.67.1)\n",
            "Requirement already satisfied: kaggle in /usr/local/lib/python3.11/dist-packages (from opendatasets) (1.7.4.2)\n",
            "Requirement already satisfied: click in /usr/local/lib/python3.11/dist-packages (from opendatasets) (8.1.8)\n",
            "Requirement already satisfied: bleach in /usr/local/lib/python3.11/dist-packages (from kaggle->opendatasets) (6.2.0)\n",
            "Requirement already satisfied: certifi>=14.05.14 in /usr/local/lib/python3.11/dist-packages (from kaggle->opendatasets) (2025.4.26)\n",
            "Requirement already satisfied: charset-normalizer in /usr/local/lib/python3.11/dist-packages (from kaggle->opendatasets) (3.4.1)\n",
            "Requirement already satisfied: idna in /usr/local/lib/python3.11/dist-packages (from kaggle->opendatasets) (3.10)\n",
            "Requirement already satisfied: protobuf in /usr/local/lib/python3.11/dist-packages (from kaggle->opendatasets) (5.29.4)\n",
            "Requirement already satisfied: python-dateutil>=2.5.3 in /usr/local/lib/python3.11/dist-packages (from kaggle->opendatasets) (2.9.0.post0)\n",
            "Requirement already satisfied: python-slugify in /usr/local/lib/python3.11/dist-packages (from kaggle->opendatasets) (8.0.4)\n",
            "Requirement already satisfied: requests in /usr/local/lib/python3.11/dist-packages (from kaggle->opendatasets) (2.32.3)\n",
            "Requirement already satisfied: setuptools>=21.0.0 in /usr/local/lib/python3.11/dist-packages (from kaggle->opendatasets) (75.2.0)\n",
            "Requirement already satisfied: six>=1.10 in /usr/local/lib/python3.11/dist-packages (from kaggle->opendatasets) (1.17.0)\n",
            "Requirement already satisfied: text-unidecode in /usr/local/lib/python3.11/dist-packages (from kaggle->opendatasets) (1.3)\n",
            "Requirement already satisfied: urllib3>=1.15.1 in /usr/local/lib/python3.11/dist-packages (from kaggle->opendatasets) (2.4.0)\n",
            "Requirement already satisfied: webencodings in /usr/local/lib/python3.11/dist-packages (from kaggle->opendatasets) (0.5.1)\n"
          ]
        }
      ]
    },
    {
      "cell_type": "code",
      "source": [
        "# 1. Downloading dataset:\n",
        "\n",
        "od.download(\"https://www.kaggle.com/datasets/heesoo37/120-years-of-olympic-history-athletes-and-results\")"
      ],
      "metadata": {
        "id": "NEqXfLNEDFtm",
        "outputId": "23a3245a-69d5-4a4c-c1d2-93698fea9848",
        "colab": {
          "base_uri": "https://localhost:8080/"
        }
      },
      "id": "NEqXfLNEDFtm",
      "execution_count": null,
      "outputs": [
        {
          "output_type": "stream",
          "name": "stdout",
          "text": [
            "Skipping, found downloaded files in \"./120-years-of-olympic-history-athletes-and-results\" (use force=True to force download)\n"
          ]
        }
      ]
    },
    {
      "cell_type": "code",
      "source": [
        "# 2. Setting paths:\n",
        "\n",
        "athelete_data_filename = \"./120-years-of-olympic-history-athletes-and-results/athlete_events.csv\"\n",
        "regions_data_filename = \"./120-years-of-olympic-history-athletes-and-results/noc_regions.csv\""
      ],
      "metadata": {
        "id": "3sxl6wQqC9WD"
      },
      "id": "3sxl6wQqC9WD",
      "execution_count": null,
      "outputs": []
    },
    {
      "cell_type": "code",
      "source": [
        "# 3. Importing libraries:\n",
        "\n",
        "import pandas as pd\n",
        "import numpy as np\n",
        "import matplotlib.pyplot as plt\n",
        "import seaborn as sns\n",
        "import plotly.express as px\n",
        "from matplotlib.colors import ListedColormap"
      ],
      "metadata": {
        "id": "nn8b6qwC4xhf"
      },
      "id": "nn8b6qwC4xhf",
      "execution_count": null,
      "outputs": []
    },
    {
      "cell_type": "markdown",
      "id": "9ec63998",
      "metadata": {
        "id": "9ec63998"
      },
      "source": [
        "##  Task 2: Set Plot Style and Color Palette\n",
        "\n",
        "**Goal:** Customize the appearance of your plots for consistent and clean visuals.\n",
        "\n",
        "### Instructions:\n",
        "1. Set the global style for all plots using `plt.style.use()`.  \n",
        "   - Use `'ggplot'` for a simple, clean base style.\n",
        "\n",
        "2. Define a custom color palette:\n",
        "   - Use a list of hex color codes.\n",
        "   - Example: `[\"#0a2e36\", \"#27FB6B\", \"#14cc60\", \"#036d19\", \"#09a129\"]`\n",
        "\n",
        "3. Apply the color palette using Seaborn:\n",
        "   - Use `sns.set_palette()`.\n",
        "\n",
        "**Expected Output:**\n",
        "\n",
        "- Style applied.\n",
        "\n",
        "- Custom color palette preview shown.\n"
      ]
    },
    {
      "cell_type": "code",
      "source": [
        "# 1. Seting the global style:\n",
        "\n",
        "plt.style.use('ggplot')\n",
        "\n",
        "# 2. Defining the color palette (Olympics inspired):\n",
        "\n",
        "color_palette = [\"#6699CC\", \"#FFB6C1\", \"#FFD700\", \"#8FD694\", \"#A78BC5\"]\n",
        "\n",
        "# 3. Applying the color palette:\n",
        "\n",
        "sns.set_palette(color_palette)\n",
        "\n",
        "# vizualise color palette\n",
        "sns.palplot(sns.color_palette(color_palette))"
      ],
      "metadata": {
        "id": "2aSebIfbIEg2",
        "outputId": "1ab0e8f9-c718-4e30-965d-66e5b7dcda45",
        "colab": {
          "base_uri": "https://localhost:8080/",
          "height": 118
        }
      },
      "id": "2aSebIfbIEg2",
      "execution_count": null,
      "outputs": [
        {
          "output_type": "display_data",
          "data": {
            "text/plain": [
              "<Figure size 500x100 with 1 Axes>"
            ],
            "image/png": "[encoded data removed]"
          },
          "metadata": {}
        }
      ]
    },
    {
      "cell_type": "markdown",
      "id": "252b9bba",
      "metadata": {
        "_cell_guid": "3cefbf41-2747-45be-a3de-d3a1e7e10fd5",
        "_uuid": "790870f9-de3e-45de-91ab-00bed99bddfb",
        "papermill": {
          "duration": 0.123355,
          "end_time": "2022-01-26T10:09:55.475707",
          "exception": false,
          "start_time": "2022-01-26T10:09:55.352352",
          "status": "completed"
        },
        "tags": [],
        "id": "252b9bba"
      },
      "source": [
        "## Task 3: Data Preparation\n",
        "\n",
        "**Goal:** Prepare data for analysis.\n",
        "\n",
        "###  Steps:\n",
        "\n",
        "1. Load the file using pandas.\n",
        "\n",
        "2. Look for some of the information about the data and the columns.\n",
        "\n",
        "3. Fix any of the missing or incorrect values.\n",
        "\n",
        "4. Which, and how much data types are in the dataset.\n",
        "\n",
        "5. List the minimum age on the competence.\n",
        "\n",
        "The focus of this EDA project will solely be on the \"Summer Olympics\", filter of all the \"Winter Olympics Games\" from the dataset."
      ]
    },
    {
      "cell_type": "code",
      "source": [
        "# 1. Loading files\n",
        "\n",
        "athelete_data = pd.read_csv(athelete_data_filename)\n",
        "regions_data = pd.read_csv(regions_data_filename)"
      ],
      "metadata": {
        "id": "oaclXgJXHK_n"
      },
      "id": "oaclXgJXHK_n",
      "execution_count": null,
      "outputs": []
    },
    {
      "cell_type": "code",
      "source": [
        "# 2. Basic info\n",
        "\n",
        "athelete_data.columns\n",
        "regions_data.columns\n",
        "athelete_data.head()\n",
        "regions_data.head()\n",
        "\n",
        "athelete_data.info()"
      ],
      "metadata": {
        "id": "yqWqwO4dVuCN",
        "outputId": "e59b1285-0e22-4c56-9a19-c0de52c25ed1",
        "colab": {
          "base_uri": "https://localhost:8080/"
        }
      },
      "id": "yqWqwO4dVuCN",
      "execution_count": 32,
      "outputs": [
        {
          "output_type": "stream",
          "name": "stdout",
          "text": [
            "<class 'pandas.core.frame.DataFrame'>\n",
            "RangeIndex: 271116 entries, 0 to 271115\n",
            "Data columns (total 15 columns):\n",
            " #   Column  Non-Null Count   Dtype  \n",
            "---  ------  --------------   -----  \n",
            " 0   ID      271116 non-null  int64  \n",
            " 1   Name    271116 non-null  object \n",
            " 2   Sex     271116 non-null  object \n",
            " 3   Age     261642 non-null  float64\n",
            " 4   Height  210945 non-null  float64\n",
            " 5   Weight  208241 non-null  float64\n",
            " 6   Team    271116 non-null  object \n",
            " 7   NOC     271116 non-null  object \n",
            " 8   Games   271116 non-null  object \n",
            " 9   Year    271116 non-null  int64  \n",
            " 10  Season  271116 non-null  object \n",
            " 11  City    271116 non-null  object \n",
            " 12  Sport   271116 non-null  object \n",
            " 13  Event   271116 non-null  object \n",
            " 14  Medal   39783 non-null   object \n",
            "dtypes: float64(3), int64(2), object(10)\n",
            "memory usage: 31.0+ MB\n"
          ]
        }
      ]
    },
    {
      "cell_type": "code",
      "source": [
        "regions_data.info()"
      ],
      "metadata": {
        "id": "DWCXXRcHVpLa",
        "outputId": "e45e5932-9ab9-45be-d8c7-e74243ab8770",
        "colab": {
          "base_uri": "https://localhost:8080/"
        }
      },
      "id": "DWCXXRcHVpLa",
      "execution_count": 26,
      "outputs": [
        {
          "output_type": "stream",
          "name": "stdout",
          "text": [
            "<class 'pandas.core.frame.DataFrame'>\n",
            "RangeIndex: 230 entries, 0 to 229\n",
            "Data columns (total 3 columns):\n",
            " #   Column  Non-Null Count  Dtype \n",
            "---  ------  --------------  ----- \n",
            " 0   NOC     230 non-null    object\n",
            " 1   region  227 non-null    object\n",
            " 2   notes   21 non-null     object\n",
            "dtypes: object(3)\n",
            "memory usage: 5.5+ KB\n"
          ]
        }
      ]
    },
    {
      "cell_type": "code",
      "source": [
        "athelete_data.describe()"
      ],
      "metadata": {
        "id": "UrhAZaeyHfIX",
        "outputId": "87d070f3-eb5f-4ce7-e12d-282512d6c7c6",
        "colab": {
          "base_uri": "https://localhost:8080/",
          "height": 300
        }
      },
      "id": "UrhAZaeyHfIX",
      "execution_count": 27,
      "outputs": [
        {
          "output_type": "execute_result",
          "data": {
            "text/plain": [
              "                  ID            Age         Height         Weight  \\\n",
              "count  271116.000000  261642.000000  210945.000000  208241.000000   \n",
              "mean    68248.954396      25.556898     175.338970      70.702393   \n",
              "std     39022.286345       6.393561      10.518462      14.348020   \n",
              "min         1.000000      10.000000     127.000000      25.000000   \n",
              "25%     34643.000000      21.000000     168.000000      60.000000   \n",
              "50%     68205.000000      24.000000     175.000000      70.000000   \n",
              "75%    102097.250000      28.000000     183.000000      79.000000   \n",
              "max    135571.000000      97.000000     226.000000     214.000000   \n",
              "\n",
              "                Year  \n",
              "count  271116.000000  \n",
              "mean     1978.378480  \n",
              "std        29.877632  \n",
              "min      1896.000000  \n",
              "25%      1960.000000  \n",
              "50%      1988.000000  \n",
              "75%      2002.000000  \n",
              "max      2016.000000  "
            ],
            "text/html": [
              "\n",
              "  <div id=\"df-387a0e75-ba4c-4e29-8b92-920e30d255cb\" class=\"colab-df-container\">\n",
              "    <div>\n",
              "<style scoped>\n",
              "    .dataframe tbody tr th:only-of-type {\n",
              "        vertical-align: middle;\n",
              "    }\n",
              "\n",
              "    .dataframe tbody tr th {\n",
              "        vertical-align: top;\n",
              "    }\n",
              "\n",
              "    .dataframe thead th {\n",
              "        text-align: right;\n",
              "    }\n",
              "</style>\n",
              "<table border=\"1\" class=\"dataframe\">\n",
              "  <thead>\n",
              "    <tr style=\"text-align: right;\">\n",
              "      <th></th>\n",
              "      <th>ID</th>\n",
              "      <th>Age</th>\n",
              "      <th>Height</th>\n",
              "      <th>Weight</th>\n",
              "      <th>Year</th>\n",
              "    </tr>\n",
              "  </thead>\n",
              "  <tbody>\n",
              "    <tr>\n",
              "      <th>count</th>\n",
              "      <td>271116.000000</td>\n",
              "      <td>261642.000000</td>\n",
              "      <td>210945.000000</td>\n",
              "      <td>208241.000000</td>\n",
              "      <td>271116.000000</td>\n",
              "    </tr>\n",
              "    <tr>\n",
              "      <th>mean</th>\n",
              "      <td>68248.954396</td>\n",
              "      <td>25.556898</td>\n",
              "      <td>175.338970</td>\n",
              "      <td>70.702393</td>\n",
              "      <td>1978.378480</td>\n",
              "    </tr>\n",
              "    <tr>\n",
              "      <th>std</th>\n",
              "      <td>39022.286345</td>\n",
              "      <td>6.393561</td>\n",
              "      <td>10.518462</td>\n",
              "      <td>14.348020</td>\n",
              "      <td>29.877632</td>\n",
              "    </tr>\n",
              "    <tr>\n",
              "      <th>min</th>\n",
              "      <td>1.000000</td>\n",
              "      <td>10.000000</td>\n",
              "      <td>127.000000</td>\n",
              "      <td>25.000000</td>\n",
              "      <td>1896.000000</td>\n",
              "    </tr>\n",
              "    <tr>\n",
              "      <th>25%</th>\n",
              "      <td>34643.000000</td>\n",
              "      <td>21.000000</td>\n",
              "      <td>168.000000</td>\n",
              "      <td>60.000000</td>\n",
              "      <td>1960.000000</td>\n",
              "    </tr>\n",
              "    <tr>\n",
              "      <th>50%</th>\n",
              "      <td>68205.000000</td>\n",
              "      <td>24.000000</td>\n",
              "      <td>175.000000</td>\n",
              "      <td>70.000000</td>\n",
              "      <td>1988.000000</td>\n",
              "    </tr>\n",
              "    <tr>\n",
              "      <th>75%</th>\n",
              "      <td>102097.250000</td>\n",
              "      <td>28.000000</td>\n",
              "      <td>183.000000</td>\n",
              "      <td>79.000000</td>\n",
              "      <td>2002.000000</td>\n",
              "    </tr>\n",
              "    <tr>\n",
              "      <th>max</th>\n",
              "      <td>135571.000000</td>\n",
              "      <td>97.000000</td>\n",
              "      <td>226.000000</td>\n",
              "      <td>214.000000</td>\n",
              "      <td>2016.000000</td>\n",
              "    </tr>\n",
              "  </tbody>\n",
              "</table>\n",
              "</div>\n",
              "    <div class=\"colab-df-buttons\">\n",
              "\n",
              "  <div class=\"colab-df-container\">\n",
              "    <button class=\"colab-df-convert\" onclick=\"convertToInteractive('df-387a0e75-ba4c-4e29-8b92-920e30d255cb')\"\n",
              "            title=\"Convert this dataframe to an interactive table.\"\n",
              "            style=\"display:none;\">\n",
              "\n",
              "  <svg xmlns=\"http://www.w3.org/2000/svg\" height=\"24px\" viewBox=\"0 -960 960 960\">\n",
              "    <path d=\"M120-120v-720h720v720H120Zm60-500h600v-160H180v160Zm220 220h160v-160H400v160Zm0 220h160v-160H400v160ZM180-400h160v-160H180v160Zm440 0h160v-160H620v160ZM180-180h160v-160H180v160Zm440 0h160v-160H620v160Z\"/>\n",
              "  </svg>\n",
              "    </button>\n",
              "\n",
              "  <style>\n",
              "    .colab-df-container {\n",
              "      display:flex;\n",
              "      gap: 12px;\n",
              "    }\n",
              "\n",
              "    .colab-df-convert {\n",
              "      background-color: #E8F0FE;\n",
              "      border: none;\n",
              "      border-radius: 50%;\n",
              "      cursor: pointer;\n",
              "      display: none;\n",
              "      fill: #1967D2;\n",
              "      height: 32px;\n",
              "      padding: 0 0 0 0;\n",
              "      width: 32px;\n",
              "    }\n",
              "\n",
              "    .colab-df-convert:hover {\n",
              "      background-color: #E2EBFA;\n",
              "      box-shadow: 0px 1px 2px rgba(60, 64, 67, 0.3), 0px 1px 3px 1px rgba(60, 64, 67, 0.15);\n",
              "      fill: #174EA6;\n",
              "    }\n",
              "\n",
              "    .colab-df-buttons div {\n",
              "      margin-bottom: 4px;\n",
              "    }\n",
              "\n",
              "    [theme=dark] .colab-df-convert {\n",
              "      background-color: #3B4455;\n",
              "      fill: #D2E3FC;\n",
              "    }\n",
              "\n",
              "    [theme=dark] .colab-df-convert:hover {\n",
              "      background-color: #434B5C;\n",
              "      box-shadow: 0px 1px 3px 1px rgba(0, 0, 0, 0.15);\n",
              "      filter: drop-shadow(0px 1px 2px rgba(0, 0, 0, 0.3));\n",
              "      fill: #FFFFFF;\n",
              "    }\n",
              "  </style>\n",
              "\n",
              "    <script>\n",
              "      const buttonEl =\n",
              "        document.querySelector('#df-387a0e75-ba4c-4e29-8b92-920e30d255cb button.colab-df-convert');\n",
              "      buttonEl.style.display =\n",
              "        google.colab.kernel.accessAllowed ? 'block' : 'none';\n",
              "\n",
              "      async function convertToInteractive(key) {\n",
              "        const element = document.querySelector('#df-387a0e75-ba4c-4e29-8b92-920e30d255cb');\n",
              "        const dataTable =\n",
              "          await google.colab.kernel.invokeFunction('convertToInteractive',\n",
              "                                                    [key], {});\n",
              "        if (!dataTable) return;\n",
              "\n",
              "        const docLinkHtml = 'Like what you see? Visit the ' +\n",
              "          '<a target=\"_blank\" href=https://colab.research.google.com/notebooks/data_table.ipynb>data table notebook</a>'\n",
              "          + ' to learn more about interactive tables.';\n",
              "        element.innerHTML = '';\n",
              "        dataTable['output_type'] = 'display_data';\n",
              "        await google.colab.output.renderOutput(dataTable, element);\n",
              "        const docLink = document.createElement('div');\n",
              "        docLink.innerHTML = docLinkHtml;\n",
              "        element.appendChild(docLink);\n",
              "      }\n",
              "    </script>\n",
              "  </div>\n",
              "\n",
              "\n",
              "    <div id=\"df-05a0f2fd-f2c9-4781-878e-6e1430bfeef6\">\n",
              "      <button class=\"colab-df-quickchart\" onclick=\"quickchart('df-05a0f2fd-f2c9-4781-878e-6e1430bfeef6')\"\n",
              "                title=\"Suggest charts\"\n",
              "                style=\"display:none;\">\n",
              "\n",
              "<svg xmlns=\"http://www.w3.org/2000/svg\" height=\"24px\"viewBox=\"0 0 24 24\"\n",
              "     width=\"24px\">\n",
              "    <g>\n",
              "        <path d=\"M19 3H5c-1.1 0-2 .9-2 2v14c0 1.1.9 2 2 2h14c1.1 0 2-.9 2-2V5c0-1.1-.9-2-2-2zM9 17H7v-7h2v7zm4 0h-2V7h2v10zm4 0h-2v-4h2v4z\"/>\n",
              "    </g>\n",
              "</svg>\n",
              "      </button>\n",
              "\n",
              "<style>\n",
              "  .colab-df-quickchart {\n",
              "      --bg-color: #E8F0FE;\n",
              "      --fill-color: #1967D2;\n",
              "      --hover-bg-color: #E2EBFA;\n",
              "      --hover-fill-color: #174EA6;\n",
              "      --disabled-fill-color: #AAA;\n",
              "      --disabled-bg-color: #DDD;\n",
              "  }\n",
              "\n",
              "  [theme=dark] .colab-df-quickchart {\n",
              "      --bg-color: #3B4455;\n",
              "      --fill-color: #D2E3FC;\n",
              "      --hover-bg-color: #434B5C;\n",
              "      --hover-fill-color: #FFFFFF;\n",
              "      --disabled-bg-color: #3B4455;\n",
              "      --disabled-fill-color: #666;\n",
              "  }\n",
              "\n",
              "  .colab-df-quickchart {\n",
              "    background-color: var(--bg-color);\n",
              "    border: none;\n",
              "    border-radius: 50%;\n",
              "    cursor: pointer;\n",
              "    display: none;\n",
              "    fill: var(--fill-color);\n",
              "    height: 32px;\n",
              "    padding: 0;\n",
              "    width: 32px;\n",
              "  }\n",
              "\n",
              "  .colab-df-quickchart:hover {\n",
              "    background-color: var(--hover-bg-color);\n",
              "    box-shadow: 0 1px 2px rgba(60, 64, 67, 0.3), 0 1px 3px 1px rgba(60, 64, 67, 0.15);\n",
              "    fill: var(--button-hover-fill-color);\n",
              "  }\n",
              "\n",
              "  .colab-df-quickchart-complete:disabled,\n",
              "  .colab-df-quickchart-complete:disabled:hover {\n",
              "    background-color: var(--disabled-bg-color);\n",
              "    fill: var(--disabled-fill-color);\n",
              "    box-shadow: none;\n",
              "  }\n",
              "\n",
              "  .colab-df-spinner {\n",
              "    border: 2px solid var(--fill-color);\n",
              "    border-color: transparent;\n",
              "    border-bottom-color: var(--fill-color);\n",
              "    animation:\n",
              "      spin 1s steps(1) infinite;\n",
              "  }\n",
              "\n",
              "  @keyframes spin {\n",
              "    0% {\n",
              "      border-color: transparent;\n",
              "      border-bottom-color: var(--fill-color);\n",
              "      border-left-color: var(--fill-color);\n",
              "    }\n",
              "    20% {\n",
              "      border-color: transparent;\n",
              "      border-left-color: var(--fill-color);\n",
              "      border-top-color: var(--fill-color);\n",
              "    }\n",
              "    30% {\n",
              "      border-color: transparent;\n",
              "      border-left-color: var(--fill-color);\n",
              "      border-top-color: var(--fill-color);\n",
              "      border-right-color: var(--fill-color);\n",
              "    }\n",
              "    40% {\n",
              "      border-color: transparent;\n",
              "      border-right-color: var(--fill-color);\n",
              "      border-top-color: var(--fill-color);\n",
              "    }\n",
              "    60% {\n",
              "      border-color: transparent;\n",
              "      border-right-color: var(--fill-color);\n",
              "    }\n",
              "    80% {\n",
              "      border-color: transparent;\n",
              "      border-right-color: var(--fill-color);\n",
              "      border-bottom-color: var(--fill-color);\n",
              "    }\n",
              "    90% {\n",
              "      border-color: transparent;\n",
              "      border-bottom-color: var(--fill-color);\n",
              "    }\n",
              "  }\n",
              "</style>\n",
              "\n",
              "      <script>\n",
              "        async function quickchart(key) {\n",
              "          const quickchartButtonEl =\n",
              "            document.querySelector('#' + key + ' button');\n",
              "          quickchartButtonEl.disabled = true;  // To prevent multiple clicks.\n",
              "          quickchartButtonEl.classList.add('colab-df-spinner');\n",
              "          try {\n",
              "            const charts = await google.colab.kernel.invokeFunction(\n",
              "                'suggestCharts', [key], {});\n",
              "          } catch (error) {\n",
              "            console.error('Error during call to suggestCharts:', error);\n",
              "          }\n",
              "          quickchartButtonEl.classList.remove('colab-df-spinner');\n",
              "          quickchartButtonEl.classList.add('colab-df-quickchart-complete');\n",
              "        }\n",
              "        (() => {\n",
              "          let quickchartButtonEl =\n",
              "            document.querySelector('#df-05a0f2fd-f2c9-4781-878e-6e1430bfeef6 button');\n",
              "          quickchartButtonEl.style.display =\n",
              "            google.colab.kernel.accessAllowed ? 'block' : 'none';\n",
              "        })();\n",
              "      </script>\n",
              "    </div>\n",
              "\n",
              "    </div>\n",
              "  </div>\n"
            ],
            "application/vnd.google.colaboratory.intrinsic+json": {
              "type": "dataframe",
              "summary": "{\n  \"name\": \"athelete_data\",\n  \"rows\": 8,\n  \"fields\": [\n    {\n      \"column\": \"ID\",\n      \"properties\": {\n        \"dtype\": \"number\",\n        \"std\": 84292.84810060589,\n        \"min\": 1.0,\n        \"max\": 271116.0,\n        \"num_unique_values\": 8,\n        \"samples\": [\n          68248.95439590434,\n          68205.0,\n          271116.0\n        ],\n        \"semantic_type\": \"\",\n        \"description\": \"\"\n      }\n    },\n    {\n      \"column\": \"Age\",\n      \"properties\": {\n        \"dtype\": \"number\",\n        \"std\": 92493.71542098433,\n        \"min\": 6.393560847032701,\n        \"max\": 261642.0,\n        \"num_unique_values\": 8,\n        \"samples\": [\n          25.556898357297374,\n          24.0,\n          261642.0\n        ],\n        \"semantic_type\": \"\",\n        \"description\": \"\"\n      }\n    },\n    {\n      \"column\": \"Height\",\n      \"properties\": {\n        \"dtype\": \"number\",\n        \"std\": 74526.5637841829,\n        \"min\": 10.518462222678274,\n        \"max\": 210945.0,\n        \"num_unique_values\": 8,\n        \"samples\": [\n          175.33896987366376,\n          175.0,\n          210945.0\n        ],\n        \"semantic_type\": \"\",\n        \"description\": \"\"\n      }\n    },\n    {\n      \"column\": \"Weight\",\n      \"properties\": {\n        \"dtype\": \"number\",\n        \"std\": 73597.41351430386,\n        \"min\": 14.348019999019845,\n        \"max\": 208241.0,\n        \"num_unique_values\": 8,\n        \"samples\": [\n          70.70239290053351,\n          70.0,\n          208241.0\n        ],\n        \"semantic_type\": \"\",\n        \"description\": \"\"\n      }\n    },\n    {\n      \"column\": \"Year\",\n      \"properties\": {\n        \"dtype\": \"number\",\n        \"std\": 95256.87714696524,\n        \"min\": 29.877631985612652,\n        \"max\": 271116.0,\n        \"num_unique_values\": 8,\n        \"samples\": [\n          1978.3784800601957,\n          1988.0,\n          271116.0\n        ],\n        \"semantic_type\": \"\",\n        \"description\": \"\"\n      }\n    }\n  ]\n}"
            }
          },
          "metadata": {},
          "execution_count": 27
        }
      ]
    },
    {
      "cell_type": "code",
      "source": [
        "regions_data.describe()"
      ],
      "metadata": {
        "id": "cGsA3Wy-ti1Q",
        "outputId": "8c0b141e-af5b-4d2c-83c5-2358c745b8f5",
        "colab": {
          "base_uri": "https://localhost:8080/",
          "height": 175
        }
      },
      "id": "cGsA3Wy-ti1Q",
      "execution_count": 28,
      "outputs": [
        {
          "output_type": "execute_result",
          "data": {
            "text/plain": [
              "        NOC   region                 notes\n",
              "count   230      227                    21\n",
              "unique  230      206                    21\n",
              "top     AFG  Germany  Netherlands Antilles\n",
              "freq      1        4                     1"
            ],
            "text/html": [
              "\n",
              "  <div id=\"df-177d3c94-a1ee-47a5-9eac-5422480d0344\" class=\"colab-df-container\">\n",
              "    <div>\n",
              "<style scoped>\n",
              "    .dataframe tbody tr th:only-of-type {\n",
              "        vertical-align: middle;\n",
              "    }\n",
              "\n",
              "    .dataframe tbody tr th {\n",
              "        vertical-align: top;\n",
              "    }\n",
              "\n",
              "    .dataframe thead th {\n",
              "        text-align: right;\n",
              "    }\n",
              "</style>\n",
              "<table border=\"1\" class=\"dataframe\">\n",
              "  <thead>\n",
              "    <tr style=\"text-align: right;\">\n",
              "      <th></th>\n",
              "      <th>NOC</th>\n",
              "      <th>region</th>\n",
              "      <th>notes</th>\n",
              "    </tr>\n",
              "  </thead>\n",
              "  <tbody>\n",
              "    <tr>\n",
              "      <th>count</th>\n",
              "      <td>230</td>\n",
              "      <td>227</td>\n",
              "      <td>21</td>\n",
              "    </tr>\n",
              "    <tr>\n",
              "      <th>unique</th>\n",
              "      <td>230</td>\n",
              "      <td>206</td>\n",
              "      <td>21</td>\n",
              "    </tr>\n",
              "    <tr>\n",
              "      <th>top</th>\n",
              "      <td>AFG</td>\n",
              "      <td>Germany</td>\n",
              "      <td>Netherlands Antilles</td>\n",
              "    </tr>\n",
              "    <tr>\n",
              "      <th>freq</th>\n",
              "      <td>1</td>\n",
              "      <td>4</td>\n",
              "      <td>1</td>\n",
              "    </tr>\n",
              "  </tbody>\n",
              "</table>\n",
              "</div>\n",
              "    <div class=\"colab-df-buttons\">\n",
              "\n",
              "  <div class=\"colab-df-container\">\n",
              "    <button class=\"colab-df-convert\" onclick=\"convertToInteractive('df-177d3c94-a1ee-47a5-9eac-5422480d0344')\"\n",
              "            title=\"Convert this dataframe to an interactive table.\"\n",
              "            style=\"display:none;\">\n",
              "\n",
              "  <svg xmlns=\"http://www.w3.org/2000/svg\" height=\"24px\" viewBox=\"0 -960 960 960\">\n",
              "    <path d=\"M120-120v-720h720v720H120Zm60-500h600v-160H180v160Zm220 220h160v-160H400v160Zm0 220h160v-160H400v160ZM180-400h160v-160H180v160Zm440 0h160v-160H620v160ZM180-180h160v-160H180v160Zm440 0h160v-160H620v160Z\"/>\n",
              "  </svg>\n",
              "    </button>\n",
              "\n",
              "  <style>\n",
              "    .colab-df-container {\n",
              "      display:flex;\n",
              "      gap: 12px;\n",
              "    }\n",
              "\n",
              "    .colab-df-convert {\n",
              "      background-color: #E8F0FE;\n",
              "      border: none;\n",
              "      border-radius: 50%;\n",
              "      cursor: pointer;\n",
              "      display: none;\n",
              "      fill: #1967D2;\n",
              "      height: 32px;\n",
              "      padding: 0 0 0 0;\n",
              "      width: 32px;\n",
              "    }\n",
              "\n",
              "    .colab-df-convert:hover {\n",
              "      background-color: #E2EBFA;\n",
              "      box-shadow: 0px 1px 2px rgba(60, 64, 67, 0.3), 0px 1px 3px 1px rgba(60, 64, 67, 0.15);\n",
              "      fill: #174EA6;\n",
              "    }\n",
              "\n",
              "    .colab-df-buttons div {\n",
              "      margin-bottom: 4px;\n",
              "    }\n",
              "\n",
              "    [theme=dark] .colab-df-convert {\n",
              "      background-color: #3B4455;\n",
              "      fill: #D2E3FC;\n",
              "    }\n",
              "\n",
              "    [theme=dark] .colab-df-convert:hover {\n",
              "      background-color: #434B5C;\n",
              "      box-shadow: 0px 1px 3px 1px rgba(0, 0, 0, 0.15);\n",
              "      filter: drop-shadow(0px 1px 2px rgba(0, 0, 0, 0.3));\n",
              "      fill: #FFFFFF;\n",
              "    }\n",
              "  </style>\n",
              "\n",
              "    <script>\n",
              "      const buttonEl =\n",
              "        document.querySelector('#df-177d3c94-a1ee-47a5-9eac-5422480d0344 button.colab-df-convert');\n",
              "      buttonEl.style.display =\n",
              "        google.colab.kernel.accessAllowed ? 'block' : 'none';\n",
              "\n",
              "      async function convertToInteractive(key) {\n",
              "        const element = document.querySelector('#df-177d3c94-a1ee-47a5-9eac-5422480d0344');\n",
              "        const dataTable =\n",
              "          await google.colab.kernel.invokeFunction('convertToInteractive',\n",
              "                                                    [key], {});\n",
              "        if (!dataTable) return;\n",
              "\n",
              "        const docLinkHtml = 'Like what you see? Visit the ' +\n",
              "          '<a target=\"_blank\" href=https://colab.research.google.com/notebooks/data_table.ipynb>data table notebook</a>'\n",
              "          + ' to learn more about interactive tables.';\n",
              "        element.innerHTML = '';\n",
              "        dataTable['output_type'] = 'display_data';\n",
              "        await google.colab.output.renderOutput(dataTable, element);\n",
              "        const docLink = document.createElement('div');\n",
              "        docLink.innerHTML = docLinkHtml;\n",
              "        element.appendChild(docLink);\n",
              "      }\n",
              "    </script>\n",
              "  </div>\n",
              "\n",
              "\n",
              "    <div id=\"df-b2a37a7b-77f7-4f1a-9971-85a66c5c6871\">\n",
              "      <button class=\"colab-df-quickchart\" onclick=\"quickchart('df-b2a37a7b-77f7-4f1a-9971-85a66c5c6871')\"\n",
              "                title=\"Suggest charts\"\n",
              "                style=\"display:none;\">\n",
              "\n",
              "<svg xmlns=\"http://www.w3.org/2000/svg\" height=\"24px\"viewBox=\"0 0 24 24\"\n",
              "     width=\"24px\">\n",
              "    <g>\n",
              "        <path d=\"M19 3H5c-1.1 0-2 .9-2 2v14c0 1.1.9 2 2 2h14c1.1 0 2-.9 2-2V5c0-1.1-.9-2-2-2zM9 17H7v-7h2v7zm4 0h-2V7h2v10zm4 0h-2v-4h2v4z\"/>\n",
              "    </g>\n",
              "</svg>\n",
              "      </button>\n",
              "\n",
              "<style>\n",
              "  .colab-df-quickchart {\n",
              "      --bg-color: #E8F0FE;\n",
              "      --fill-color: #1967D2;\n",
              "      --hover-bg-color: #E2EBFA;\n",
              "      --hover-fill-color: #174EA6;\n",
              "      --disabled-fill-color: #AAA;\n",
              "      --disabled-bg-color: #DDD;\n",
              "  }\n",
              "\n",
              "  [theme=dark] .colab-df-quickchart {\n",
              "      --bg-color: #3B4455;\n",
              "      --fill-color: #D2E3FC;\n",
              "      --hover-bg-color: #434B5C;\n",
              "      --hover-fill-color: #FFFFFF;\n",
              "      --disabled-bg-color: #3B4455;\n",
              "      --disabled-fill-color: #666;\n",
              "  }\n",
              "\n",
              "  .colab-df-quickchart {\n",
              "    background-color: var(--bg-color);\n",
              "    border: none;\n",
              "    border-radius: 50%;\n",
              "    cursor: pointer;\n",
              "    display: none;\n",
              "    fill: var(--fill-color);\n",
              "    height: 32px;\n",
              "    padding: 0;\n",
              "    width: 32px;\n",
              "  }\n",
              "\n",
              "  .colab-df-quickchart:hover {\n",
              "    background-color: var(--hover-bg-color);\n",
              "    box-shadow: 0 1px 2px rgba(60, 64, 67, 0.3), 0 1px 3px 1px rgba(60, 64, 67, 0.15);\n",
              "    fill: var(--button-hover-fill-color);\n",
              "  }\n",
              "\n",
              "  .colab-df-quickchart-complete:disabled,\n",
              "  .colab-df-quickchart-complete:disabled:hover {\n",
              "    background-color: var(--disabled-bg-color);\n",
              "    fill: var(--disabled-fill-color);\n",
              "    box-shadow: none;\n",
              "  }\n",
              "\n",
              "  .colab-df-spinner {\n",
              "    border: 2px solid var(--fill-color);\n",
              "    border-color: transparent;\n",
              "    border-bottom-color: var(--fill-color);\n",
              "    animation:\n",
              "      spin 1s steps(1) infinite;\n",
              "  }\n",
              "\n",
              "  @keyframes spin {\n",
              "    0% {\n",
              "      border-color: transparent;\n",
              "      border-bottom-color: var(--fill-color);\n",
              "      border-left-color: var(--fill-color);\n",
              "    }\n",
              "    20% {\n",
              "      border-color: transparent;\n",
              "      border-left-color: var(--fill-color);\n",
              "      border-top-color: var(--fill-color);\n",
              "    }\n",
              "    30% {\n",
              "      border-color: transparent;\n",
              "      border-left-color: var(--fill-color);\n",
              "      border-top-color: var(--fill-color);\n",
              "      border-right-color: var(--fill-color);\n",
              "    }\n",
              "    40% {\n",
              "      border-color: transparent;\n",
              "      border-right-color: var(--fill-color);\n",
              "      border-top-color: var(--fill-color);\n",
              "    }\n",
              "    60% {\n",
              "      border-color: transparent;\n",
              "      border-right-color: var(--fill-color);\n",
              "    }\n",
              "    80% {\n",
              "      border-color: transparent;\n",
              "      border-right-color: var(--fill-color);\n",
              "      border-bottom-color: var(--fill-color);\n",
              "    }\n",
              "    90% {\n",
              "      border-color: transparent;\n",
              "      border-bottom-color: var(--fill-color);\n",
              "    }\n",
              "  }\n",
              "</style>\n",
              "\n",
              "      <script>\n",
              "        async function quickchart(key) {\n",
              "          const quickchartButtonEl =\n",
              "            document.querySelector('#' + key + ' button');\n",
              "          quickchartButtonEl.disabled = true;  // To prevent multiple clicks.\n",
              "          quickchartButtonEl.classList.add('colab-df-spinner');\n",
              "          try {\n",
              "            const charts = await google.colab.kernel.invokeFunction(\n",
              "                'suggestCharts', [key], {});\n",
              "          } catch (error) {\n",
              "            console.error('Error during call to suggestCharts:', error);\n",
              "          }\n",
              "          quickchartButtonEl.classList.remove('colab-df-spinner');\n",
              "          quickchartButtonEl.classList.add('colab-df-quickchart-complete');\n",
              "        }\n",
              "        (() => {\n",
              "          let quickchartButtonEl =\n",
              "            document.querySelector('#df-b2a37a7b-77f7-4f1a-9971-85a66c5c6871 button');\n",
              "          quickchartButtonEl.style.display =\n",
              "            google.colab.kernel.accessAllowed ? 'block' : 'none';\n",
              "        })();\n",
              "      </script>\n",
              "    </div>\n",
              "\n",
              "    </div>\n",
              "  </div>\n"
            ],
            "application/vnd.google.colaboratory.intrinsic+json": {
              "type": "dataframe",
              "summary": "{\n  \"name\": \"regions_data\",\n  \"rows\": 4,\n  \"fields\": [\n    {\n      \"column\": \"NOC\",\n      \"properties\": {\n        \"dtype\": \"string\",\n        \"num_unique_values\": 3,\n        \"samples\": [\n          \"230\",\n          \"AFG\",\n          \"1\"\n        ],\n        \"semantic_type\": \"\",\n        \"description\": \"\"\n      }\n    },\n    {\n      \"column\": \"region\",\n      \"properties\": {\n        \"dtype\": \"string\",\n        \"num_unique_values\": 4,\n        \"samples\": [\n          206,\n          \"4\",\n          \"227\"\n        ],\n        \"semantic_type\": \"\",\n        \"description\": \"\"\n      }\n    },\n    {\n      \"column\": \"notes\",\n      \"properties\": {\n        \"dtype\": \"string\",\n        \"num_unique_values\": 3,\n        \"samples\": [\n          \"21\",\n          \"Netherlands Antilles\",\n          \"1\"\n        ],\n        \"semantic_type\": \"\",\n        \"description\": \"\"\n      }\n    }\n  ]\n}"
            }
          },
          "metadata": {},
          "execution_count": 28
        }
      ]
    },
    {
      "cell_type": "code",
      "source": [
        "# 3. Fixing values\n",
        "\n",
        "athelete_data.isnull().sum()"
      ],
      "metadata": {
        "id": "pX0bnYnZuoEH",
        "outputId": "4038ba3e-e573-4486-b506-eb5adabbaf0d",
        "colab": {
          "base_uri": "https://localhost:8080/",
          "height": 554
        }
      },
      "id": "pX0bnYnZuoEH",
      "execution_count": 29,
      "outputs": [
        {
          "output_type": "execute_result",
          "data": {
            "text/plain": [
              "ID             0\n",
              "Name           0\n",
              "Sex            0\n",
              "Age         9474\n",
              "Height     60171\n",
              "Weight     62875\n",
              "Team           0\n",
              "NOC            0\n",
              "Games          0\n",
              "Year           0\n",
              "Season         0\n",
              "City           0\n",
              "Sport          0\n",
              "Event          0\n",
              "Medal     231333\n",
              "dtype: int64"
            ],
            "text/html": [
              "<div>\n",
              "<style scoped>\n",
              "    .dataframe tbody tr th:only-of-type {\n",
              "        vertical-align: middle;\n",
              "    }\n",
              "\n",
              "    .dataframe tbody tr th {\n",
              "        vertical-align: top;\n",
              "    }\n",
              "\n",
              "    .dataframe thead th {\n",
              "        text-align: right;\n",
              "    }\n",
              "</style>\n",
              "<table border=\"1\" class=\"dataframe\">\n",
              "  <thead>\n",
              "    <tr style=\"text-align: right;\">\n",
              "      <th></th>\n",
              "      <th>0</th>\n",
              "    </tr>\n",
              "  </thead>\n",
              "  <tbody>\n",
              "    <tr>\n",
              "      <th>ID</th>\n",
              "      <td>0</td>\n",
              "    </tr>\n",
              "    <tr>\n",
              "      <th>Name</th>\n",
              "      <td>0</td>\n",
              "    </tr>\n",
              "    <tr>\n",
              "      <th>Sex</th>\n",
              "      <td>0</td>\n",
              "    </tr>\n",
              "    <tr>\n",
              "      <th>Age</th>\n",
              "      <td>9474</td>\n",
              "    </tr>\n",
              "    <tr>\n",
              "      <th>Height</th>\n",
              "      <td>60171</td>\n",
              "    </tr>\n",
              "    <tr>\n",
              "      <th>Weight</th>\n",
              "      <td>62875</td>\n",
              "    </tr>\n",
              "    <tr>\n",
              "      <th>Team</th>\n",
              "      <td>0</td>\n",
              "    </tr>\n",
              "    <tr>\n",
              "      <th>NOC</th>\n",
              "      <td>0</td>\n",
              "    </tr>\n",
              "    <tr>\n",
              "      <th>Games</th>\n",
              "      <td>0</td>\n",
              "    </tr>\n",
              "    <tr>\n",
              "      <th>Year</th>\n",
              "      <td>0</td>\n",
              "    </tr>\n",
              "    <tr>\n",
              "      <th>Season</th>\n",
              "      <td>0</td>\n",
              "    </tr>\n",
              "    <tr>\n",
              "      <th>City</th>\n",
              "      <td>0</td>\n",
              "    </tr>\n",
              "    <tr>\n",
              "      <th>Sport</th>\n",
              "      <td>0</td>\n",
              "    </tr>\n",
              "    <tr>\n",
              "      <th>Event</th>\n",
              "      <td>0</td>\n",
              "    </tr>\n",
              "    <tr>\n",
              "      <th>Medal</th>\n",
              "      <td>231333</td>\n",
              "    </tr>\n",
              "  </tbody>\n",
              "</table>\n",
              "</div><br><label><b>dtype:</b> int64</label>"
            ]
          },
          "metadata": {},
          "execution_count": 29
        }
      ]
    },
    {
      "cell_type": "code",
      "source": [
        "regions_data.isnull().sum()"
      ],
      "metadata": {
        "id": "SXljvKP1vVzB",
        "outputId": "803b822f-3b2e-4a4c-bd28-a7184d6bd8cb",
        "colab": {
          "base_uri": "https://localhost:8080/",
          "height": 178
        }
      },
      "id": "SXljvKP1vVzB",
      "execution_count": 30,
      "outputs": [
        {
          "output_type": "execute_result",
          "data": {
            "text/plain": [
              "NOC         0\n",
              "region      3\n",
              "notes     209\n",
              "dtype: int64"
            ],
            "text/html": [
              "<div>\n",
              "<style scoped>\n",
              "    .dataframe tbody tr th:only-of-type {\n",
              "        vertical-align: middle;\n",
              "    }\n",
              "\n",
              "    .dataframe tbody tr th {\n",
              "        vertical-align: top;\n",
              "    }\n",
              "\n",
              "    .dataframe thead th {\n",
              "        text-align: right;\n",
              "    }\n",
              "</style>\n",
              "<table border=\"1\" class=\"dataframe\">\n",
              "  <thead>\n",
              "    <tr style=\"text-align: right;\">\n",
              "      <th></th>\n",
              "      <th>0</th>\n",
              "    </tr>\n",
              "  </thead>\n",
              "  <tbody>\n",
              "    <tr>\n",
              "      <th>NOC</th>\n",
              "      <td>0</td>\n",
              "    </tr>\n",
              "    <tr>\n",
              "      <th>region</th>\n",
              "      <td>3</td>\n",
              "    </tr>\n",
              "    <tr>\n",
              "      <th>notes</th>\n",
              "      <td>209</td>\n",
              "    </tr>\n",
              "  </tbody>\n",
              "</table>\n",
              "</div><br><label><b>dtype:</b> int64</label>"
            ]
          },
          "metadata": {},
          "execution_count": 30
        }
      ]
    },
    {
      "cell_type": "code",
      "source": [
        "# 4. Data types"
      ],
      "metadata": {
        "id": "eUxTQGOZvuWm"
      },
      "id": "eUxTQGOZvuWm",
      "execution_count": null,
      "outputs": []
    },
    {
      "cell_type": "code",
      "source": [
        "# 5. Minimum age"
      ],
      "metadata": {
        "id": "xYAit5DHv0j_"
      },
      "id": "xYAit5DHv0j_",
      "execution_count": null,
      "outputs": []
    },
    {
      "cell_type": "markdown",
      "id": "f0504d32",
      "metadata": {
        "_cell_guid": "c304c203-5009-4e12-ae94-396c3b7b4689",
        "_uuid": "9dd13f6e-3722-4d72-8018-856c342859dc",
        "papermill": {
          "duration": 0.128118,
          "end_time": "2022-01-26T10:10:03.387995",
          "exception": false,
          "start_time": "2022-01-26T10:10:03.259877",
          "status": "completed"
        },
        "tags": [],
        "id": "f0504d32"
      },
      "source": [
        "## Task 4: Merging The Two Datasets Into One\n",
        "\n",
        "**Goal:** Merge datasets.\n",
        "\n",
        "Before we can begin analyzing the data, we need to combine the two datasets:  \n",
        "- `athlete_events.csv` (athlete information)\n",
        "- `noc_regions.csv` (region/country information)\n",
        "\n",
        "Use the `pandas.merge()` function to do this.\n",
        "\n",
        "###  Steps:\n",
        "\n",
        "1. **Call `pd.merge()`**  \n",
        "   This function merges two DataFrames based on one or more common columns (known as keys).\n",
        "\n",
        "2. **Set merge type and key**  \n",
        "   We'll perform a **left join** on the `NOC` column:\n",
        "   - This keeps **all records** from `athlete_events` (left DataFrame).\n",
        "   - It adds matching `region` data from `noc_regions` (right DataFrame).\n",
        "   - Rows with no match in the right DataFrame will have `NaN` values in those columns.\n",
        "\n"
      ]
    },
    {
      "cell_type": "code",
      "source": [
        "data = pd.merge(athelete_data, regions_data)"
      ],
      "metadata": {
        "id": "KIyQOxEav8Di"
      },
      "id": "KIyQOxEav8Di",
      "execution_count": null,
      "outputs": []
    },
    {
      "cell_type": "markdown",
      "id": "20a91d57",
      "metadata": {
        "_cell_guid": "c0073fcf-710a-43ab-bd02-f5173f25d80b",
        "_uuid": "b376137a-cfea-4dd1-85db-4bb324202eff",
        "papermill": {
          "duration": 0.139769,
          "end_time": "2022-01-26T10:10:04.716579",
          "exception": false,
          "start_time": "2022-01-26T10:10:04.576810",
          "status": "completed"
        },
        "tags": [],
        "id": "20a91d57"
      },
      "source": [
        "## Task 5: Finding and Replacing The Null Values In Our Dataset\n",
        "\n",
        "**Goal:** Data cleaning and exploratory analysis.\n",
        "\n",
        "### Cleaning Tasks:\n",
        "\n",
        "- Visualize the distribution of missing values using pie charts or bar plots.\n",
        "\n",
        "- Calculate and list the percentage of null values for each column. Replace missing values with the mean of the respective column when appropriate.\n",
        "\n",
        "- Remove duplicate entries from the dataset to ensure accuracy.\n",
        "\n",
        "### Exploratory Questions:\n",
        "\n",
        "1. Which country has sent the most athletes to the Summer Olympics?\n",
        "\n",
        "2. How has the number of athletes, countries, and events changed over time?\n",
        "\n",
        "3. Which nations have won the most Olympic medals?\n",
        "\n",
        "4. How has participation by male and female athletes evolved over time?\n",
        "\n",
        "5. What is the correlation between the height and weight of Olympic participants?\n",
        "\n",
        "6. In which sports has India won Olympic medals?\n",
        "\n",
        "7. Which sports have contributed the most medals overall?"
      ]
    },
    {
      "cell_type": "markdown",
      "id": "cb470a63",
      "metadata": {
        "_cell_guid": "60f10d15-22d3-4b73-93d9-801e45e8d056",
        "_uuid": "c836d217-8ea9-4452-a45f-1fbc4a7cf1e1",
        "papermill": {
          "duration": 0.140885,
          "end_time": "2022-01-26T10:10:19.493645",
          "exception": false,
          "start_time": "2022-01-26T10:10:19.352760",
          "status": "completed"
        },
        "tags": [],
        "id": "cb470a63"
      },
      "source": [
        "##  Task 6: Exploratory Analysis and Visualisations\n",
        "\n",
        "**Goal:** Data analysis and visualization."
      ]
    },
    {
      "cell_type": "markdown",
      "id": "d9a41fb1",
      "metadata": {
        "_cell_guid": "cf663350-92a3-4cad-a50d-4c9649739a9b",
        "_uuid": "cb0fb162-2e31-4990-a6bd-beec952be578",
        "papermill": {
          "duration": 0.140295,
          "end_time": "2022-01-26T10:10:19.773711",
          "exception": false,
          "start_time": "2022-01-26T10:10:19.633416",
          "status": "completed"
        },
        "tags": [],
        "id": "d9a41fb1"
      },
      "source": [
        "### 1. Create a word-cloud that graphically shows the nations that have sent the maximum number of athletes over the years."
      ]
    },
    {
      "cell_type": "markdown",
      "id": "e7cf7b94",
      "metadata": {
        "_cell_guid": "90edbd5d-0793-4c01-b6cc-b6b5f783afe7",
        "_uuid": "566b18b4-29ac-4383-ac2c-0c29c490e35b",
        "papermill": {
          "duration": 0.150913,
          "end_time": "2022-01-26T10:10:31.374564",
          "exception": false,
          "start_time": "2022-01-26T10:10:31.223651",
          "status": "completed"
        },
        "tags": [],
        "id": "e7cf7b94"
      },
      "source": [
        "### 2. Show the relation between various features and labels in the Olympics dataset and infere/discuss any trends and correlations."
      ]
    },
    {
      "cell_type": "markdown",
      "id": "ef85d4fb",
      "metadata": {
        "_cell_guid": "9520b1d5-3c04-42cf-a35f-2123ebeee4fb",
        "_uuid": "15b476b7-485c-4090-add1-c4f6a710b61b",
        "papermill": {
          "duration": 0.167975,
          "end_time": "2022-01-26T10:10:56.631883",
          "exception": false,
          "start_time": "2022-01-26T10:10:56.463908",
          "status": "completed"
        },
        "tags": [],
        "id": "ef85d4fb"
      },
      "source": [
        "### 3. Make a plot of the overall spread of the age of athletes in the Summer Olympics and discuss your findings."
      ]
    },
    {
      "cell_type": "markdown",
      "id": "0854a1b9",
      "metadata": {
        "_cell_guid": "f5477319-f96f-49b4-965f-d854c7e676a1",
        "_uuid": "b7247485-c118-4552-bd35-fdc6cf4b515f",
        "papermill": {
          "duration": 0.237761,
          "end_time": "2022-01-26T10:11:01.443465",
          "exception": false,
          "start_time": "2022-01-26T10:11:01.205704",
          "status": "completed"
        },
        "tags": [],
        "id": "0854a1b9"
      },
      "source": [
        "### 4. Make a plot of the number of participants in the Summer Olympics over the years and discuss the overall trends."
      ]
    },
    {
      "cell_type": "markdown",
      "id": "bf8d6ea4",
      "metadata": {
        "_cell_guid": "6ae68a7a-8137-468e-9038-4fa118ad11aa",
        "_uuid": "790cb55e-6a07-4e4e-bdeb-066c84335cf3",
        "papermill": {
          "duration": 0.235288,
          "end_time": "2022-01-26T10:11:04.724734",
          "exception": false,
          "start_time": "2022-01-26T10:11:04.489446",
          "status": "completed"
        },
        "tags": [],
        "id": "bf8d6ea4"
      },
      "source": [
        "### 5. Describe the variation in the number of female participants over the years in the Summer Olympics."
      ]
    },
    {
      "cell_type": "markdown",
      "id": "b716fc6a",
      "metadata": {
        "_cell_guid": "5b7d161f-322d-4a8e-8a97-cb3a7347bd57",
        "_uuid": "d6c4676a-02f3-45ee-ad6d-5120ca2ad9e0",
        "papermill": {
          "duration": 0.264565,
          "end_time": "2022-01-26T10:11:07.197681",
          "exception": false,
          "start_time": "2022-01-26T10:11:06.933116",
          "status": "completed"
        },
        "tags": [],
        "id": "b716fc6a"
      },
      "source": [
        "### 6. Show graphically the variation of the number of female participants in comparison to male participants over the years."
      ]
    },
    {
      "cell_type": "markdown",
      "id": "c0b7ed36",
      "metadata": {
        "_cell_guid": "a1ceca06-1d3a-4c7d-b393-56716108f054",
        "_uuid": "fe97a874-6681-43a6-9bde-9a3ba43f07d2",
        "papermill": {
          "duration": 0.240834,
          "end_time": "2022-01-26T10:11:10.110135",
          "exception": false,
          "start_time": "2022-01-26T10:11:09.869301",
          "status": "completed"
        },
        "tags": [],
        "id": "c0b7ed36"
      },
      "source": [
        "### 7. Create a scatter plot of the relationship between Height Vs Weight Vs Age of participants across sports. Any conclusions?\n"
      ]
    },
    {
      "cell_type": "markdown",
      "id": "409aaefa",
      "metadata": {
        "_cell_guid": "a8a2f592-1bd4-4f42-aad6-fb3dbf7b8589",
        "_uuid": "ff887846-6990-4985-b1c5-ec81236bce8e",
        "papermill": {
          "duration": 0.361894,
          "end_time": "2022-01-26T10:11:14.188401",
          "exception": false,
          "start_time": "2022-01-26T10:11:13.826507",
          "status": "completed"
        },
        "tags": [],
        "id": "409aaefa"
      },
      "source": [
        "### 8. Find and list the top 10 nations that have won the most Gold, Silver, and Bronze Medals, respectively, in the history of the Summer Olympics."
      ]
    },
    {
      "cell_type": "markdown",
      "id": "3c59141e",
      "metadata": {
        "_cell_guid": "618540a4-f410-407f-a165-e7d71e1167d1",
        "_uuid": "24f5820b-9e7b-4da3-9cfb-3df9c71a0d92",
        "papermill": {
          "duration": 0.369061,
          "end_time": "2022-01-26T10:11:29.722287",
          "exception": false,
          "start_time": "2022-01-26T10:11:29.353226",
          "status": "completed"
        },
        "tags": [],
        "id": "3c59141e"
      },
      "source": [
        "### 9. Create a word-cloud showing sports in which India has won medals over the years."
      ]
    },
    {
      "cell_type": "markdown",
      "id": "1f28cbb4",
      "metadata": {
        "_cell_guid": "3f74b27b-163a-4680-bcee-29388af17700",
        "_uuid": "053f0a22-8bfb-4e3f-9591-81886c0391b4",
        "papermill": {
          "duration": 0.40664,
          "end_time": "2022-01-26T10:11:40.356578",
          "exception": false,
          "start_time": "2022-01-26T10:11:39.949938",
          "status": "completed"
        },
        "tags": [],
        "id": "1f28cbb4"
      },
      "source": [
        "### 10. Look up and list the top 3 female athletes by the number of awarded medals across all sports."
      ]
    },
    {
      "cell_type": "markdown",
      "id": "e5e5b0aa",
      "metadata": {
        "_cell_guid": "2dc88cdb-9c8f-4669-b943-09678aa647bf",
        "_uuid": "55eefdcc-0c7f-4de0-b8b7-2bc568b4bd07",
        "papermill": {
          "duration": 0.384201,
          "end_time": "2022-01-26T10:12:50.799553",
          "exception": false,
          "start_time": "2022-01-26T10:12:50.415352",
          "status": "completed"
        },
        "tags": [],
        "id": "e5e5b0aa"
      },
      "source": [
        "# Optional: Additional tasks\n",
        "\n",
        "- Make a Choropleth Map mark the countries and explain why there is a sudden exponential drop in the number of participants at three instances in the historical timeline of the Olympics.\n",
        "\n",
        "- Does Wealth (GDP) have any effect on a country's performance in the Olympics?\n",
        "\n",
        "You can use this dataset for this:  [GDP dataset](https://github.com/bhushanrane29/Summer-Olympics-EDA/blob/master/gdp_data.csv) that can merged with the above dataset to perform this analysis.\n",
        "\n",
        "- What is the relation between a countries climate and their olympic medal tally?\n",
        "\n",
        "- Does home advantage give countries an edge in their medals tally? (Linearcurve)\n",
        "\n",
        "- Does an athele's height have any role to play in winning an olympic medal? (Heatmap)\n",
        "\n",
        "- You can add the Paralympics dataset to this [link](https://www.kaggle.com/shivagovindasamy/2020-tokyo-paralympics) data too\n",
        "\n",
        "- Replace the pie charts with sunburst charts at places where it is possible"
      ]
    }
  ],
  "metadata": {
    "kernelspec": {
      "display_name": "Python 3 (ipykernel)",
      "language": "python",
      "name": "python3"
    },
    "language_info": {
      "codemirror_mode": {
        "name": "ipython",
        "version": 3
      },
      "file_extension": ".py",
      "mimetype": "text/x-python",
      "name": "python",
      "nbconvert_exporter": "python",
      "pygments_lexer": "ipython3",
      "version": "3.9.15"
    },
    "papermill": {
      "default_parameters": {},
      "duration": 204.743443,
      "end_time": "2022-01-26T10:12:54.533518",
      "environment_variables": {},
      "exception": null,
      "input_path": "__notebook__.ipynb",
      "output_path": "__notebook__.ipynb",
      "parameters": {},
      "start_time": "2022-01-26T10:09:29.790075",
      "version": "2.3.3"
    },
    "colab": {
      "provenance": [],
      "include_colab_link": true
    }
  },
  "nbformat": 4,
  "nbformat_minor": 5
}